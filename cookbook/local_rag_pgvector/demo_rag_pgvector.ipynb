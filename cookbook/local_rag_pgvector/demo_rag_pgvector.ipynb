{
 "cells": [
  {
   "cell_type": "markdown",
   "metadata": {},
   "source": [
    "### Install requirements\n",
    "`pip install pgvector==0.3.6 psycopg2-binary==2.9.10`\n",
    "\n",
    "### Start the postgres db using:\n",
    "\n",
    "`docker compose up`"
   ]
  },
  {
   "cell_type": "code",
   "execution_count": 1,
   "metadata": {},
   "outputs": [],
   "source": [
    "from bedrock_agent.agent import BedrockAgent\n",
    "from bedrock_agent.utils import get_boto_session, get_embedding\n",
    "from bedrock_agent.tool import tool\n",
    "from bedrock_agent.types import ModelConfig\n",
    "from pgvector.psycopg import register_vector\n",
    "import psycopg\n",
    "import json\n",
    "import boto3\n",
    "from ast import literal_eval"
   ]
  },
  {
   "cell_type": "code",
   "execution_count": 2,
   "metadata": {},
   "outputs": [],
   "source": [
    "session = get_boto_session()\n",
    "\n",
    "table_name = \"rag_example\" # name of the embedding table\n",
    "dimensions = 256\n",
    "\n",
    "conn_params = {\n",
    "    'dbname': 'postgres', # default db name\n",
    "    'host': '172.18.0.2', # IP address of the Postgres container\n",
    "    'user': 'postgres',   # default user name\n",
    "    'password': 'example' # some password\n",
    "}"
   ]
  },
  {
   "cell_type": "code",
   "execution_count": 3,
   "metadata": {},
   "outputs": [],
   "source": [
    "def generate_facts(agent: BedrockAgent, topic: str  = \"animals\"):\n",
    "    query = f\"\"\"\n",
    "    Can you please create a few different facts about {topic} and return them as a list?\n",
    "\n",
    "    The output should look like this for example:\n",
    "    [\n",
    "        'fact 1',\n",
    "        'fact 2',\n",
    "        'fact 3'\n",
    "    ]\n",
    "\n",
    "    PLEASE NOTE: ONLY OUTPUT THE LIST OF FACTS, DO NOT RETURN ANYTHING ELSE\n",
    "    \"\"\"\n",
    "    res = agent.completion(query)\n",
    "    text_str = res.output.message.content[0].text    \n",
    "    texts = literal_eval(text_str)\n",
    "    assert isinstance(texts, list), \"The output should be a list of facts\"\n",
    "    \n",
    "    return texts\n",
    "\n",
    "def ingest_kb(contents: list, session: boto3.Session, conn_params: dict, table_name: str = \"rag_example\", dimensions: int = 256, recreate_index: bool = False):    \n",
    "    \"\"\"\n",
    "    Ingest content into a vector database knowledge base\n",
    "    \n",
    "    :param contents: (list): List of text content to embed\n",
    "    :param session: boto3.Session: Boto3 session for Bedrock\n",
    "    :param conn_params: dict: Database connection parameters\n",
    "    :param table_name: str: Name of the table to store embeddings (default is \"rag_example\")\n",
    "    :param dimensions: int: Embedding dimensions (default is 256)\n",
    "    :param recreate_index: bool: Whether to recreate the table (default is False)\n",
    "    \"\"\"\n",
    "    embeddings = [get_embedding(content, session, dimensions=dimensions) for content in contents]\n",
    "    \n",
    "    conn = psycopg.connect(**conn_params, autocommit=True)\n",
    "    register_vector(conn)\n",
    "    \n",
    "    create_table_query = f'CREATE TABLE {table_name} (id bigserial PRIMARY KEY, content text, embedding vector({dimensions}))'\n",
    "    \n",
    "    if recreate_index:\n",
    "        conn.execute(f'DROP TABLE IF EXISTS {table_name}')\n",
    "        conn.execute(create_table_query)\n",
    "    \n",
    "    for content, embedding in zip(contents, embeddings):\n",
    "        conn.execute(f'INSERT INTO {table_name} (content, embedding) VALUES (%s, %s)', (content, embedding))"
   ]
  },
  {
   "cell_type": "code",
   "execution_count": 8,
   "metadata": {},
   "outputs": [],
   "source": [
    "@tool\n",
    "def ingest_facts_to_kb(topic: str) -> BedrockAgent:\n",
    "    \"\"\"\n",
    "    Generate and ingest facts about a user defined topic to a vector knowledge base. \n",
    "    This knowledge base can be used for similarity search i.e. retrieving similar documents/facts about a given topic depending on the user request.\n",
    "    \n",
    "    IMPORTANT:\n",
    "    Only use this tool when the user explicitly asks for ingesting new facts to the knowledge base.\n",
    "    Do not use this tool if you feel like you need to ingest facts to the knowledge base.\n",
    "    For retrieving existing facts, use the handoff_rag_agent tool to query the knowledge base for similar results.\n",
    "    If the user does not provide a topic, you can use a default topic like \"animals\" for generating facts.\n",
    "    \n",
    "    :param agent: The BedrockAgent object. This is a reference to self.\n",
    "    :param topic: The topic for which facts need to be ingested. Should not be more than 2-3 words.\n",
    "    \"\"\"\n",
    "    _agent = BedrockAgent()\n",
    "    facts = generate_facts(_agent, topic)\n",
    "    ingest_kb(facts, session, conn_params, table_name=table_name, dimensions=dimensions)\n",
    "    return facts\n",
    "\n",
    "@tool\n",
    "def query_kb(query: str):\n",
    "    \"\"\"\n",
    "    Query the knowledge base for similar facts to the input query.\n",
    "    This might be useful for retrieving additional information to answer a query.\n",
    "    If the user asks for more information about a certain topic, this function can provide additional facts about that topic.\n",
    "    \n",
    "    IMPORTANT:\n",
    "    Always use this tool first. If the results are not satisfactory, you can use the ingest_facts_to_kb tool to ingest new facts to the knowledge base.\n",
    "    \n",
    "    :param query: The query to search for similar facts\n",
    "    \"\"\"\n",
    "    conn = psycopg.connect(**conn_params)    \n",
    "    embedding = get_embedding(query, session, dimensions=dimensions)\n",
    "    sql_query = f\"SELECT *, embedding <=> '{embedding}'::vector AS similarity_score FROM {table_name} ORDER BY similarity_score LIMIT 5\"\n",
    "    res = conn.execute(sql_query)\n",
    "    \n",
    "    return json.dumps([r[1] for r in res], indent=4)"
   ]
  },
  {
   "cell_type": "markdown",
   "metadata": {},
   "source": [
    "### Optional, truncate the table"
   ]
  },
  {
   "cell_type": "code",
   "execution_count": 9,
   "metadata": {},
   "outputs": [],
   "source": [
    "conn = psycopg.connect(**conn_params, autocommit=True)    \n",
    "sql_query = f\"Truncate table {table_name}\"\n",
    "res = conn.execute(sql_query)"
   ]
  },
  {
   "cell_type": "markdown",
   "metadata": {},
   "source": [
    "### Create ingestion agent. This agent will take care of ingesting some randonly generated facts into the kb. Can obviously also do this manually. Just wanted to show that you could also use an agent for that :)."
   ]
  },
  {
   "cell_type": "code",
   "execution_count": 10,
   "metadata": {},
   "outputs": [],
   "source": [
    "ingest_tools = [ingest_facts_to_kb]\n",
    "model_cfg = ModelConfig(model_id=\"amazon.nova-micro-v1:0\")\n",
    "fact_ingestor_agent = BedrockAgent(\n",
    "    \"IngestionAgent\", \n",
    "    session, \n",
    "    model_cfg=model_cfg, \n",
    "    tools=ingest_tools, \n",
    "    system_message=\"You are an expert in generating new and interesting facts about a topic.\",\n",
    "    verbose=False\n",
    ")"
   ]
  },
  {
   "cell_type": "code",
   "execution_count": 11,
   "metadata": {},
   "outputs": [
    {
     "name": "stderr",
     "output_type": "stream",
     "text": [
      "\u001b[32m2024-12-22 16:48:30.114\u001b[0m | \u001b[1mINFO    \u001b[0m | \u001b[36mbedrock_agent.agent\u001b[0m:\u001b[36mchat\u001b[0m:\u001b[36m167\u001b[0m - \u001b[1mAgent: IngestionAgent | End of conversation. Returning response.\u001b[0m\n"
     ]
    },
    {
     "data": {
      "text/plain": [
       "ConverseResponse(ResponseMetadata=ResponseMetadata(RequestId='a59ae6d1-f50b-453d-82bc-7314d74d0539', HTTPStatusCode=200, HTTPHeaders={'date': 'Sun, 22 Dec 2024 15:48:30 GMT', 'content-type': 'application/json', 'content-length': '3795', 'connection': 'keep-alive', 'x-amzn-requestid': 'a59ae6d1-f50b-453d-82bc-7314d74d0539'}, RetryAttempts=0), output=Output(message=Message(role='assistant', content=[Content(text='Here are some interesting facts about different types of animals:\\n\\n**Mammals**\\n- Mammals are warm-blooded animals that have hair or fur.\\n- Mammals are the only animals that have live births and nurse their young with milk.\\n- There are over 5,400 different species of mammals on Earth.\\n- The blue whale, the largest mammal, can weigh as much as 200 tons.\\n- Some mammals, like bats and whales, have the ability to echolocate to navigate and hunt.\\n\\n**Birds**\\n- Birds are the only known animals that possess feathers.\\n- Ostriches are the largest living birds and can run at speeds of up to 43 mph.\\n- Hummingbirds are the only birds that can fly backwards.\\n- The smallest bird in the world is the bee hummingbird, which weighs less than a penny.\\n- Some birds, like parrots, have the ability to mimic human speech.\\n\\n**Reptiles**\\n- Reptiles are ectothermic, meaning they rely on external sources to regulate their body temperature.\\n- There are over 10,000 species of reptiles, including snakes, lizards, turtles, and crocodiles.\\n- The largest living reptile is the saltwater crocodile, which can grow up to 23 feet long.\\n- Some reptiles, like chameleons, have the ability to change their skin color for various purposes, including communication and camouflage.\\n- Turtles are one of the oldest groups of reptiles, with some species existing for over 200 million years.\\n\\n**Amphibians**\\n- Amphibians are the first true tetrapods, meaning they have four limbs.\\n- The skin of amphibians is permeable and often moist, which helps them breathe through their skin.\\n- Amphibians undergo metamorphosis, transforming from a larval stage (like a tadpole) to an adult form.\\n- There are over 8,000 species of amphibians worldwide, including frogs, toads, salamanders, and newts.\\n- Many amphibians are highly sensitive to environmental changes and can serve as bioindicators of ecosystem health.\\n\\n**Fish**\\n- Fish are the largest group of vertebrates, with over 34,000 species.\\n- The longest living fish on record is the Atlantic cod, which lived to be 210 years old.\\n- Some fish, like the seahorse, are the only species where the female carries and gives birth to the offspring.\\n- The shortest fish in the ocean is the dwarf pygmy goby, which is about 0.4 inches (10 millimeters) long.\\n- Fish can have different numbers of fins; the common goldfish has 16 to 18 fins.\\n- The most colorful fish is the peacock bass, known for its vibrant and varied colors.\\n- The whale shark, the largest fish species, can grow up to 40 feet (12 meters) long and is entirely harmless to humans.\\n\\n**Insects**\\n- Insects are the most diverse group of animals on Earth, with over a million described species.\\n- Aphids can reproduce both sexually and asexually, allowing them to rapidly increase their populations.\\n- The smallest insect in the world is the Pygmy Beetle, which measures just 0.13 millimeters long.\\n- Ants communicate through pheromones and have complex social structures with different roles for workers, soldiers, and queens.\\n- Butterflies taste with their feet, using specialized organs to detect the chemical makeup of potential food sources.\\n\\n**Arachnids**\\n- Arachnids include spiders, scorpions, ticks, and mites.\\n- There are over 100,000 species of spiders worldwide, making them the largest group of arachnids.\\n- Scorpions can live up to 25 years in captivity.\\n- Arachnids have eight legs and are characterized by having two main body parts: the cephalothorax and abdomen.\\n- Some spiders can produce silk that is used to make webs, which can capture prey or serve as a safety net.', toolUse=None)])), stopReason='end_turn', usage=Usage(inputTokens=1621, outputTokens=824, totalTokens=2445), metrics=Metrics(latencyMs=5346))"
      ]
     },
     "execution_count": 11,
     "metadata": {},
     "output_type": "execute_result"
    }
   ],
   "source": [
    "fact_ingestor_agent.chat(\"Can you please generate some facts about different types of animals? Please use the following: Mammals, Birds, Reptiles, Amphibians, Fish, Insects, and Arachnids.\")"
   ]
  },
  {
   "cell_type": "code",
   "execution_count": 12,
   "metadata": {},
   "outputs": [
    {
     "name": "stdout",
     "output_type": "stream",
     "text": [
      "\n",
      "--------------------------------------------------\n",
      "Message # 1\n",
      "--------------------------------------------------\n",
      "ROLE: USER\n",
      "TEXT: Can you please generate some facts about different types of animals? Please use the following: Mammals, Birds, Reptiles, Amphibians, Fish, Insects, and Arachnids.\n",
      "\n",
      "--------------------------------------------------\n",
      "Message # 2\n",
      "--------------------------------------------------\n",
      "ROLE: ASSISTANT\n",
      "TEXT: <thinking> The User has asked for facts about different types of animals, specifying the categories: Mammals, Birds, Reptiles, Amphibians, Fish, Insects, and Arachnids. I need to generate and ingest these facts into the vector knowledge base to later perform similarity searches if needed. To do this, I will use the tool \"ingest_facts_to_kb\" with the appropriate topic for each animal type.</thinking>\n",
      "\n",
      "TOOL USE: ingest_facts_to_kb\n",
      "INPUT: {'topic': 'Mammals'}\n",
      "TOOL USE: ingest_facts_to_kb\n",
      "INPUT: {'topic': 'Birds'}\n",
      "TOOL USE: ingest_facts_to_kb\n",
      "INPUT: {'topic': 'Reptiles'}\n",
      "TOOL USE: ingest_facts_to_kb\n",
      "INPUT: {'topic': 'Amphibians'}\n",
      "TOOL USE: ingest_facts_to_kb\n",
      "INPUT: {'topic': 'Fish'}\n",
      "TOOL USE: ingest_facts_to_kb\n",
      "INPUT: {'topic': 'Insects'}\n",
      "TOOL USE: ingest_facts_to_kb\n",
      "INPUT: {'topic': 'Arachnids'}\n",
      "\n",
      "--------------------------------------------------\n",
      "Message # 3\n",
      "--------------------------------------------------\n",
      "ROLE: USER\n",
      "TOOL RESULT: ['Mammals are warm-blooded animals that have hair or fur.', 'Mammals are the only animals that have live births and nurse their young with milk.', 'There are over 5,400 different species of mammals on Earth.', 'The blue whale, the largest mammal, can weigh as much as 200 tons.', 'Some mammals, like bats and whales, have the ability to echolocate to navigate and hunt.']\n",
      "TOOL RESULT: ['Birds are the only known animals that possess feathers.', 'Ostriches are the largest living birds and can run at speeds of up to 43 mph.', 'Hummingbirds are the only birds that can fly backwards.', 'The smallest bird in the world is the bee hummingbird, which weighs less than a penny.', 'Some birds, like parrots, have the ability to mimic human speech.']\n",
      "TOOL RESULT: ['Reptiles are ectothermic, meaning they rely on external sources to regulate their body temperature.', 'There are over 10,000 species of reptiles, including snakes, lizards, turtles, and crocodiles.', 'The largest living reptile is the saltwater crocodile, which can grow up to 23 feet long.', 'Some reptiles, like chameleons, have the ability to change their skin color for various purposes, including communication and camouflage.', 'Turtles are one of the oldest groups of reptiles, with some species existing for over 200 million years.']\n",
      "TOOL RESULT: ['Amphibians are the first true tetrapods, meaning they have four limbs.', 'The skin of amphibians is permeable and often moist, which helps them breathe through their skin.', 'Amphibians undergo metamorphosis, transforming from a larval stage (like a tadpole) to an adult form.', 'There are over 8,000 species of amphibians worldwide, including frogs, toads, salamanders, and newts.', 'Many amphibians are highly sensitive to environmental changes and can serve as bioindicators of ecosystem health.']\n",
      "TOOL RESULT: ['Fish are the largest group of vertebrates, with over 34,000 species.', 'The longest living fish on record is the Atlantic cod, which lived to be 210 years old.', 'Some fish, like the seahorse, are the only species where the female carries and gives birth to the offspring.', 'The shortest fish in the ocean is the dwarf pygmy goby, which is about 0.4 inches (10 millimeters) long.', 'Fish can have different numbers of fins; the common goldfish has 16 to 18 fins.', 'The most colorful fish is the peacock bass, known for its vibrant and varied colors.', 'The whale shark, the largest fish species, can grow up to 40 feet (12 meters) long and is entirely harmless to humans.']\n",
      "TOOL RESULT: ['Insects are the most diverse group of animals on Earth, with over a million described species.', 'Aphids can reproduce both sexually and asexually, allowing them to rapidly increase their populations.', 'The smallest insect in the world is the Pygmy Beetle, which measures just 0.13 millimeters long.', 'Ants communicate through pheromones and have complex social structures with different roles for workers, soldiers, and queens.', 'Butterflies taste with their feet, using specialized organs to detect the chemical makeup of potential food sources.']\n",
      "TOOL RESULT: ['Arachnids include spiders, scorpions, ticks, and mites.', 'There are over 100,000 species of spiders worldwide, making them the largest group of arachnids.', 'Scorpions can live up to 25 years in captivity.', 'Arachnids have eight legs and are characterized by having two main body parts: the cephalothorax and abdomen.', 'Some spiders can produce silk that is used to make webs, which can capture prey or serve as a safety net.']\n",
      "\n",
      "--------------------------------------------------\n",
      "Message # 4\n",
      "--------------------------------------------------\n",
      "ROLE: ASSISTANT\n",
      "TEXT: Here are some interesting facts about different types of animals:\n",
      "\n",
      "**Mammals**\n",
      "- Mammals are warm-blooded animals that have hair or fur.\n",
      "- Mammals are the only animals that have live births and nurse their young with milk.\n",
      "- There are over 5,400 different species of mammals on Earth.\n",
      "- The blue whale, the largest mammal, can weigh as much as 200 tons.\n",
      "- Some mammals, like bats and whales, have the ability to echolocate to navigate and hunt.\n",
      "\n",
      "**Birds**\n",
      "- Birds are the only known animals that possess feathers.\n",
      "- Ostriches are the largest living birds and can run at speeds of up to 43 mph.\n",
      "- Hummingbirds are the only birds that can fly backwards.\n",
      "- The smallest bird in the world is the bee hummingbird, which weighs less than a penny.\n",
      "- Some birds, like parrots, have the ability to mimic human speech.\n",
      "\n",
      "**Reptiles**\n",
      "- Reptiles are ectothermic, meaning they rely on external sources to regulate their body temperature.\n",
      "- There are over 10,000 species of reptiles, including snakes, lizards, turtles, and crocodiles.\n",
      "- The largest living reptile is the saltwater crocodile, which can grow up to 23 feet long.\n",
      "- Some reptiles, like chameleons, have the ability to change their skin color for various purposes, including communication and camouflage.\n",
      "- Turtles are one of the oldest groups of reptiles, with some species existing for over 200 million years.\n",
      "\n",
      "**Amphibians**\n",
      "- Amphibians are the first true tetrapods, meaning they have four limbs.\n",
      "- The skin of amphibians is permeable and often moist, which helps them breathe through their skin.\n",
      "- Amphibians undergo metamorphosis, transforming from a larval stage (like a tadpole) to an adult form.\n",
      "- There are over 8,000 species of amphibians worldwide, including frogs, toads, salamanders, and newts.\n",
      "- Many amphibians are highly sensitive to environmental changes and can serve as bioindicators of ecosystem health.\n",
      "\n",
      "**Fish**\n",
      "- Fish are the largest group of vertebrates, with over 34,000 species.\n",
      "- The longest living fish on record is the Atlantic cod, which lived to be 210 years old.\n",
      "- Some fish, like the seahorse, are the only species where the female carries and gives birth to the offspring.\n",
      "- The shortest fish in the ocean is the dwarf pygmy goby, which is about 0.4 inches (10 millimeters) long.\n",
      "- Fish can have different numbers of fins; the common goldfish has 16 to 18 fins.\n",
      "- The most colorful fish is the peacock bass, known for its vibrant and varied colors.\n",
      "- The whale shark, the largest fish species, can grow up to 40 feet (12 meters) long and is entirely harmless to humans.\n",
      "\n",
      "**Insects**\n",
      "- Insects are the most diverse group of animals on Earth, with over a million described species.\n",
      "- Aphids can reproduce both sexually and asexually, allowing them to rapidly increase their populations.\n",
      "- The smallest insect in the world is the Pygmy Beetle, which measures just 0.13 millimeters long.\n",
      "- Ants communicate through pheromones and have complex social structures with different roles for workers, soldiers, and queens.\n",
      "- Butterflies taste with their feet, using specialized organs to detect the chemical makeup of potential food sources.\n",
      "\n",
      "**Arachnids**\n",
      "- Arachnids include spiders, scorpions, ticks, and mites.\n",
      "- There are over 100,000 species of spiders worldwide, making them the largest group of arachnids.\n",
      "- Scorpions can live up to 25 years in captivity.\n",
      "- Arachnids have eight legs and are characterized by having two main body parts: the cephalothorax and abdomen.\n",
      "- Some spiders can produce silk that is used to make webs, which can capture prey or serve as a safety net.\n"
     ]
    }
   ],
   "source": [
    "fact_ingestor_agent.draw_trace()"
   ]
  },
  {
   "cell_type": "code",
   "execution_count": 13,
   "metadata": {},
   "outputs": [
    {
     "name": "stdout",
     "output_type": "stream",
     "text": [
      "Total tokens used: 4565 | total costs: 0.0004180750 USD\n"
     ]
    }
   ],
   "source": [
    "print(f\"Total tokens used: {fact_ingestor_agent.total_tokens_used} | total costs: {fact_ingestor_agent.total_costs} USD\")"
   ]
  },
  {
   "cell_type": "code",
   "execution_count": 14,
   "metadata": {},
   "outputs": [
    {
     "data": {
      "text/plain": [
       "[('Mammals are warm-blooded animals that have hair or fur.',),\n",
       " ('Mammals are the only animals that have live births and nurse their young with milk.',),\n",
       " ('There are over 5,400 different species of mammals on Earth.',),\n",
       " ('The blue whale, the largest mammal, can weigh as much as 200 tons.',),\n",
       " ('Some mammals, like bats and whales, have the ability to echolocate to navigate and hunt.',),\n",
       " ('Birds are the only known animals that possess feathers.',),\n",
       " ('Ostriches are the largest living birds and can run at speeds of up to 43 mph.',),\n",
       " ('Hummingbirds are the only birds that can fly backwards.',),\n",
       " ('The smallest bird in the world is the bee hummingbird, which weighs less than a penny.',),\n",
       " ('Some birds, like parrots, have the ability to mimic human speech.',)]"
      ]
     },
     "execution_count": 14,
     "metadata": {},
     "output_type": "execute_result"
    }
   ],
   "source": [
    "conn = psycopg.connect(**conn_params)    \n",
    "sql_query = f\"SELECT content FROM {table_name} LIMIT 10\"\n",
    "res = conn.execute(sql_query)\n",
    "res.fetchall()"
   ]
  },
  {
   "cell_type": "code",
   "execution_count": 15,
   "metadata": {},
   "outputs": [],
   "source": [
    "tools = [query_kb]\n",
    "model_cfg = ModelConfig(model_id=\"amazon.nova-micro-v1:0\")\n",
    "agent = BedrockAgent(\n",
    "    \"UserAgent\", \n",
    "    session, \n",
    "    model_cfg=model_cfg, \n",
    "    tools=tools, \n",
    "    system_message=\"You are an user agent that can help users with a wide range of topics.\",\n",
    "    verbose=False\n",
    "    )"
   ]
  },
  {
   "cell_type": "code",
   "execution_count": 16,
   "metadata": {},
   "outputs": [
    {
     "name": "stderr",
     "output_type": "stream",
     "text": [
      "\u001b[32m2024-12-22 16:49:03.654\u001b[0m | \u001b[1mINFO    \u001b[0m | \u001b[36mbedrock_agent.agent\u001b[0m:\u001b[36mchat\u001b[0m:\u001b[36m167\u001b[0m - \u001b[1mAgent: UserAgent | End of conversation. Returning response.\u001b[0m\n"
     ]
    },
    {
     "data": {
      "text/plain": [
       "ConverseResponse(ResponseMetadata=ResponseMetadata(RequestId='de7c2475-2e4e-4508-9644-07e46040090e', HTTPStatusCode=200, HTTPHeaders={'date': 'Sun, 22 Dec 2024 15:49:03 GMT', 'content-type': 'application/json', 'content-length': '625', 'connection': 'keep-alive', 'x-amzn-requestid': 'de7c2475-2e4e-4508-9644-07e46040090e'}, RetryAttempts=0), output=Output(message=Message(role='assistant', content=[Content(text='Here are some interesting facts about birds that I found:\\n\\n1. Birds are the only known animals that possess feathers.\\n2. The smallest bird in the world is the bee hummingbird, which weighs less than a penny.\\n3. Some birds, like parrots, have the ability to mimic human speech.\\n4. Ostriches are the largest living birds and can run at speeds of up to 43 mph.\\n\\nIf you need more information or have any other questions, feel free to ask!', toolUse=None)])), stopReason='end_turn', usage=Usage(inputTokens=641, outputTokens=100, totalTokens=741), metrics=Metrics(latencyMs=743))"
      ]
     },
     "execution_count": 16,
     "metadata": {},
     "output_type": "execute_result"
    }
   ],
   "source": [
    "agent.chat(\"Can you please tell me some interesting facts about birds?\")"
   ]
  },
  {
   "cell_type": "code",
   "execution_count": 17,
   "metadata": {},
   "outputs": [
    {
     "name": "stdout",
     "output_type": "stream",
     "text": [
      "\n",
      "--------------------------------------------------\n",
      "Message # 1\n",
      "--------------------------------------------------\n",
      "ROLE: USER\n",
      "TEXT: Can you please tell me some interesting facts about birds?\n",
      "\n",
      "--------------------------------------------------\n",
      "Message # 2\n",
      "--------------------------------------------------\n",
      "ROLE: ASSISTANT\n",
      "TEXT: <thinking> The User has asked for interesting facts about birds. To provide accurate information, I should first use the query_kb tool to retrieve any relevant facts from the knowledge base. </thinking>\n",
      "\n",
      "TOOL USE: query_kb\n",
      "INPUT: {'query': 'interesting facts about birds'}\n",
      "\n",
      "--------------------------------------------------\n",
      "Message # 3\n",
      "--------------------------------------------------\n",
      "ROLE: USER\n",
      "TOOL RESULT: [\n",
      "    \"Birds are the only known animals that possess feathers.\",\n",
      "    \"The smallest bird in the world is the bee hummingbird, which weighs less than a penny.\",\n",
      "    \"Some birds, like parrots, have the ability to mimic human speech.\",\n",
      "    \"Insects are the most diverse group of animals on Earth, with over a million described species.\",\n",
      "    \"Ostriches are the largest living birds and can run at speeds of up to 43 mph.\"\n",
      "]\n",
      "\n",
      "--------------------------------------------------\n",
      "Message # 4\n",
      "--------------------------------------------------\n",
      "ROLE: ASSISTANT\n",
      "TEXT: Here are some interesting facts about birds that I found:\n",
      "\n",
      "1. Birds are the only known animals that possess feathers.\n",
      "2. The smallest bird in the world is the bee hummingbird, which weighs less than a penny.\n",
      "3. Some birds, like parrots, have the ability to mimic human speech.\n",
      "4. Ostriches are the largest living birds and can run at speeds of up to 43 mph.\n",
      "\n",
      "If you need more information or have any other questions, feel free to ask!\n"
     ]
    }
   ],
   "source": [
    "agent.draw_trace()"
   ]
  },
  {
   "cell_type": "code",
   "execution_count": 18,
   "metadata": {},
   "outputs": [
    {
     "name": "stdout",
     "output_type": "stream",
     "text": [
      "Total tokens used: 1295 | total costs: 0.0000660100 USD\n"
     ]
    }
   ],
   "source": [
    "print(f\"Total tokens used: {agent.total_tokens_used} | total costs: {agent.total_costs} USD\")"
   ]
  }
 ],
 "metadata": {
  "kernelspec": {
   "display_name": ".venv",
   "language": "python",
   "name": "python3"
  },
  "language_info": {
   "codemirror_mode": {
    "name": "ipython",
    "version": 3
   },
   "file_extension": ".py",
   "mimetype": "text/x-python",
   "name": "python",
   "nbconvert_exporter": "python",
   "pygments_lexer": "ipython3",
   "version": "3.12.3"
  }
 },
 "nbformat": 4,
 "nbformat_minor": 2
}
