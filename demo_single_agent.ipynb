{
 "cells": [
  {
   "cell_type": "code",
   "execution_count": 1,
   "metadata": {},
   "outputs": [],
   "source": [
    "from bedrock_agent.utils import get_boto_session\n",
    "from bedrock_agent.tool import tool\n",
    "from bedrock_agent.types import ModelConfig\n",
    "from bedrock_agent.agent import BedrockAgent\n",
    "from dotenv import load_dotenv\n",
    "import json\n",
    "\n",
    "load_dotenv()\n",
    "\n",
    "session = get_boto_session()"
   ]
  },
  {
   "cell_type": "code",
   "execution_count": 2,
   "metadata": {},
   "outputs": [],
   "source": [
    "@tool\n",
    "def get_current_weather(city: str) -> str:\n",
    "    \"\"\"\n",
    "    Fetches the current weather for a given city\n",
    "    \n",
    "    :param city: The city for which the weather is to be fetched\n",
    "    \"\"\"\n",
    "    import random\n",
    "    rng_degree = random.randrange(0, 40)\n",
    "    return f\"The weather in {city} is {rng_degree} degrees celsius\"\n",
    "\n",
    "@tool\n",
    "def write_poem(text: str) -> dict:\n",
    "    \"\"\"\n",
    "    Generates a poem based on the input text\n",
    "    \n",
    "    :param text: The text to base the poem on\n",
    "    \"\"\"\n",
    "    return json.dumps({\"text\": \"Roses are red, violets are blue, I am a bot, and so are you\"}, indent=4)"
   ]
  },
  {
   "cell_type": "code",
   "execution_count": 3,
   "metadata": {},
   "outputs": [],
   "source": [
    "tools = [get_current_weather, write_poem]\n",
    "model_cfg = ModelConfig(model_id=\"amazon.nova-micro-v1:0\")\n",
    "agent = BedrockAgent(\"ExpertAgent\", session, model_cfg=model_cfg, tools=tools, verbose=False)"
   ]
  },
  {
   "cell_type": "code",
   "execution_count": null,
   "metadata": {},
   "outputs": [
    {
     "name": "stderr",
     "output_type": "stream",
     "text": [
      "\u001b[32m2024-12-19 16:30:20.443\u001b[0m | \u001b[1mINFO    \u001b[0m | \u001b[36mbedrock_agent.agent\u001b[0m:\u001b[36mchat\u001b[0m:\u001b[36m157\u001b[0m - \u001b[1mAgent: ExpertAgent | End of conversation. Returning response.\u001b[0m\n"
     ]
    }
   ],
   "source": [
    "res = agent.chat(\"Can you write a short poem about the weather in Berlin? Please also include the current weather. Please think step by step and lay out a plan before acting.\")"
   ]
  },
  {
   "cell_type": "code",
   "execution_count": 5,
   "metadata": {},
   "outputs": [
    {
     "name": "stdout",
     "output_type": "stream",
     "text": [
      "\n",
      "--------------------------------------------------\n",
      "Message # 1\n",
      "--------------------------------------------------\n",
      "ROLE: USER\n",
      "TEXT: Can you write a short poem about the weather in Berlin? Please also include the current weather. Please think step by step and lay out a plan before acting.\n",
      "\n",
      "--------------------------------------------------\n",
      "Message # 2\n",
      "--------------------------------------------------\n",
      "ROLE: ASSISTANT\n",
      "TEXT: Sure, let's break down the task step by step:\n",
      "\n",
      "1. **Generate a poem about the weather in Berlin**: We need to first write a poem based on the concept of weather in Berlin.\n",
      "2. **Get the current weather in Berlin**: We need to fetch the current weather for Berlin to include in the poem.\n",
      "\n",
      "Here's the plan:\n",
      "1. Use the `write_poem` action to generate a poem about the weather in Berlin.\n",
      "2. Use the `get_current_weather` action to fetch the current weather in Berlin.\n",
      "3. Combine both pieces of information to create a final response.\n",
      "\n",
      "Let's start with the first step:\n",
      "\n",
      "\n",
      "TOOL USE: write_poem\n",
      "INPUT: {'text': 'weather in Berlin'}\n",
      "\n",
      "--------------------------------------------------\n",
      "Message # 3\n",
      "--------------------------------------------------\n",
      "ROLE: USER\n",
      "TOOL RESULT: {\n",
      "    \"text\": \"Roses are red, violets are blue, I am a bot, and so are you\"\n",
      "}\n",
      "\n",
      "--------------------------------------------------\n",
      "Message # 4\n",
      "--------------------------------------------------\n",
      "ROLE: ASSISTANT\n",
      "TEXT: Great, we have the poem. Next, we need to fetch the current weather in Berlin.\n",
      "\n",
      "Let's proceed with the second step: \n",
      "TOOL USE: get_current_weather\n",
      "INPUT: {'city': 'Berlin'}\n",
      "\n",
      "--------------------------------------------------\n",
      "Message # 5\n",
      "--------------------------------------------------\n",
      "ROLE: USER\n",
      "TOOL RESULT: The weather in Berlin is 29 degrees celsius\n",
      "\n",
      "--------------------------------------------------\n",
      "Message # 6\n",
      "--------------------------------------------------\n",
      "ROLE: ASSISTANT\n",
      "TEXT: Now we have both the poem and the current weather information. Here is the combined response:\n",
      "\n",
      "**Poem about the weather in Berlin:**\n",
      "\"Roses are red, violets are blue, I am a bot, and so are you.\"\n",
      "\n",
      "**Current weather in Berlin:**\n",
      "The weather in Berlin is 29 degrees Celsius.\n",
      "\n",
      "I hope you find this information useful!\n"
     ]
    }
   ],
   "source": [
    "agent.draw_trace()"
   ]
  },
  {
   "cell_type": "code",
   "execution_count": 10,
   "metadata": {},
   "outputs": [
    {
     "name": "stdout",
     "output_type": "stream",
     "text": [
      "Total tokens used: 1702 | total costs: 0.0000956900 USD\n"
     ]
    }
   ],
   "source": [
    "print(f\"Total tokens used: {agent.total_tokens_used} | total costs: {agent.total_costs} USD\")"
   ]
  }
 ],
 "metadata": {
  "kernelspec": {
   "display_name": ".venv",
   "language": "python",
   "name": "python3"
  },
  "language_info": {
   "codemirror_mode": {
    "name": "ipython",
    "version": 3
   },
   "file_extension": ".py",
   "mimetype": "text/x-python",
   "name": "python",
   "nbconvert_exporter": "python",
   "pygments_lexer": "ipython3",
   "version": "3.12.3"
  }
 },
 "nbformat": 4,
 "nbformat_minor": 2
}
