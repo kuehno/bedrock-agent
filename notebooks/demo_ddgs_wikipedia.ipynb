{
 "cells": [
  {
   "cell_type": "code",
   "execution_count": null,
   "metadata": {},
   "outputs": [],
   "source": [
    "!pip install wikipedia~=1.4 duckduckgo-search==6.0.0 lxml==5.3.0"
   ]
  },
  {
   "cell_type": "code",
   "execution_count": 1,
   "metadata": {},
   "outputs": [],
   "source": [
    "from bedrock_agent.utils import get_boto_session\n",
    "from bedrock_agent.tool import tool\n",
    "from bedrock_agent.types import ModelConfig\n",
    "from bedrock_agent.agent import BedrockAgent\n",
    "from dotenv import load_dotenv\n",
    "import json\n",
    "\n",
    "import wikipedia\n",
    "from duckduckgo_search import DDGS, exceptions\n",
    "\n",
    "load_dotenv()\n",
    "\n",
    "session = get_boto_session()"
   ]
  },
  {
   "cell_type": "code",
   "execution_count": 2,
   "metadata": {},
   "outputs": [],
   "source": [
    "@tool\n",
    "def search_wikipedia(search_term: str, lang: str = \"en\", max_results: int = 3):\n",
    "    \"\"\" \n",
    "    Searches Wikipedia for the given search term and returns summaries of the results.\n",
    "    \n",
    "    :param search_term: The term to search for on Wikipedia.\n",
    "    :param lang: The language in which to search. Defaults to \"en\".\n",
    "    :param max_results: The maximum number of search results to return. Defaults to 3.\n",
    "    \n",
    "    :returns: A list of page summaries for the search results. If no results are found, returns \"No search results.\" If a page cannot be loaded, returns \"Unable to load page.\"\n",
    "    \"\"\"\n",
    "    wikipedia.set_lang(lang)\n",
    "    \n",
    "    pages = wikipedia.search(search_term, results=max_results)\n",
    "    if len(pages) == 0:\n",
    "        return \"No search results.\"\n",
    "    \n",
    "    page_summaries = []\n",
    "    for page in pages:\n",
    "        try:\n",
    "            page_summary = wikipedia.summary(page, auto_suggest=False)\n",
    "            page_summaries.append(page_summary)\n",
    "        except wikipedia.exceptions.PageError:\n",
    "            page_summaries.append(\"Unable to load page.\")\n",
    "    return page_summaries\n",
    "\n",
    "@tool\n",
    "def fetch_duckduckgo_results(query: str, region: str = \"de-de\", max_results: int = 5):\n",
    "    \"\"\" \n",
    "    Searches DuckDuckGo (Web-Search) for the given query and returns a list of the results.\n",
    "    \n",
    "    :param query: The query to search for on DuckDuckGo.\n",
    "    :param region: The region in which to search. Defaults to \"de-de\".\n",
    "    :param max_results: The maximum number of search results to return. Defaults to 5.\n",
    "    \n",
    "    :returns: A list of search results. If the search fails, returns \"Ratelimited. Try again later.\"\n",
    "    \"\"\"\n",
    "    params = {\n",
    "        \"keywords\": query,\n",
    "        \"region\": region,\n",
    "        \"max_results\": max_results,\n",
    "        \"backend\": \"html\",\n",
    "    }\n",
    "    headers = {\n",
    "            \"User-Agent\": \"Mozilla/5.0 (Windows NT 10.0; Win64; x64) AppleWebKit/537.36 (KHTML, like Gecko) HeadlessChrome/122.0.6261.95 Safari/537.36\"\n",
    "        }\n",
    "    with DDGS(headers=headers) as ddg:\n",
    "        for _ in range(3):\n",
    "            try:\n",
    "                results = list(ddg.text(**params))\n",
    "                return json.dumps([res.get(\"body\") for res in results])\n",
    "            except exceptions.RatelimitException:\n",
    "                return \"Ratelimited. Try again later.\""
   ]
  },
  {
   "cell_type": "code",
   "execution_count": 3,
   "metadata": {},
   "outputs": [],
   "source": [
    "tools = [search_wikipedia, fetch_duckduckgo_results]\n",
    "model_cfg = ModelConfig(model_id=\"amazon.nova-pro-v1:0\")\n",
    "agent = BedrockAgent(\"ExpertAgent\", session, model_cfg=model_cfg, tools=tools, verbose=False)"
   ]
  },
  {
   "cell_type": "code",
   "execution_count": null,
   "metadata": {},
   "outputs": [],
   "source": [
    "agent.chat(\"Can you please analyze the latest iPhone 16 Pro? I need a summary of the features and specifications. Please think step by step and also try to browse the web if you need additional information.\")"
   ]
  },
  {
   "cell_type": "code",
   "execution_count": 5,
   "metadata": {},
   "outputs": [
    {
     "name": "stdout",
     "output_type": "stream",
     "text": [
      "\n",
      "--------------------------------------------------\n",
      "Message # 1\n",
      "--------------------------------------------------\n",
      "ROLE: USER\n",
      "TEXT: Can you please analyze the latest iPhone 16 Pro? I need a summary of the features and specifications. Please think step by step and also try to browse the web if you need additional information.\n",
      "\n",
      "--------------------------------------------------\n",
      "Message # 2\n",
      "--------------------------------------------------\n",
      "ROLE: ASSISTANT\n",
      "TOOL USE: search_wikipedia\n",
      "INPUT: {'search_term': 'iPhone 16 Pro', 'max_results': 1}\n",
      "\n",
      "--------------------------------------------------\n",
      "Message # 3\n",
      "--------------------------------------------------\n",
      "ROLE: USER\n",
      "TOOL RESULT: ['The iPhone 16 Pro and iPhone 16 Pro Max are smartphones developed and marketed by Apple Inc. Alongside the iPhone 16 and iPhone 16 Plus, they form the eighteenth generation of the iPhone, succeeding the iPhone 15 Pro and iPhone 15 Pro Max, and were announced on September 9, 2024, and released on September 20, 2024. The iPhone 16 Pro and iPhone 16 Pro Max include larger 6.3-inch and 6.9-inch displays, a faster processor, upgraded wide and ultra-wide cameras, support for Wi-Fi 7, larger batteries, and come pre-installed with the iOS 18 operating system.\\n\\n']\n",
      "\n",
      "--------------------------------------------------\n",
      "Message # 4\n",
      "--------------------------------------------------\n",
      "ROLE: ASSISTANT\n",
      "TEXT: Here's a summary of the iPhone 16 Pro features and specifications based on the latest available information:\n",
      "\n",
      "### iPhone 16 Pro Summary\n",
      "- **Display**: Larger 6.3-inch display.\n",
      "- **Processor**: Faster processor.\n",
      "- **Cameras**: Upgraded wide and ultra-wide cameras.\n",
      "- **Connectivity**: Support for Wi-Fi 7.\n",
      "- **Battery**: Larger battery.\n",
      "- **Operating System**: Pre-installed with iOS 18.\n",
      "\n",
      "For more detailed information and the latest updates, you may want to check additional sources or the official Apple website. If you need further specifics or have additional questions, feel free to ask!\n"
     ]
    }
   ],
   "source": [
    "agent.draw_trace()"
   ]
  },
  {
   "cell_type": "code",
   "execution_count": null,
   "metadata": {},
   "outputs": [],
   "source": [
    "agent.chat(\"Can you please fetch the latest news about the iPhone 16 Pro and tell me if its a good investment?\")"
   ]
  },
  {
   "cell_type": "code",
   "execution_count": 7,
   "metadata": {},
   "outputs": [
    {
     "name": "stdout",
     "output_type": "stream",
     "text": [
      "\n",
      "--------------------------------------------------\n",
      "Message # 1\n",
      "--------------------------------------------------\n",
      "ROLE: USER\n",
      "TEXT: Can you please analyze the latest iPhone 16 Pro? I need a summary of the features and specifications. Please think step by step and also try to browse the web if you need additional information.\n",
      "\n",
      "--------------------------------------------------\n",
      "Message # 2\n",
      "--------------------------------------------------\n",
      "ROLE: ASSISTANT\n",
      "TOOL USE: search_wikipedia\n",
      "INPUT: {'search_term': 'iPhone 16 Pro', 'max_results': 1}\n",
      "\n",
      "--------------------------------------------------\n",
      "Message # 3\n",
      "--------------------------------------------------\n",
      "ROLE: USER\n",
      "TOOL RESULT: ['The iPhone 16 Pro and iPhone 16 Pro Max are smartphones developed and marketed by Apple Inc. Alongside the iPhone 16 and iPhone 16 Plus, they form the eighteenth generation of the iPhone, succeeding the iPhone 15 Pro and iPhone 15 Pro Max, and were announced on September 9, 2024, and released on September 20, 2024. The iPhone 16 Pro and iPhone 16 Pro Max include larger 6.3-inch and 6.9-inch displays, a faster processor, upgraded wide and ultra-wide cameras, support for Wi-Fi 7, larger batteries, and come pre-installed with the iOS 18 operating system.\\n\\n']\n",
      "\n",
      "--------------------------------------------------\n",
      "Message # 4\n",
      "--------------------------------------------------\n",
      "ROLE: ASSISTANT\n",
      "TEXT: Here's a summary of the iPhone 16 Pro features and specifications based on the latest available information:\n",
      "\n",
      "### iPhone 16 Pro Summary\n",
      "- **Display**: Larger 6.3-inch display.\n",
      "- **Processor**: Faster processor.\n",
      "- **Cameras**: Upgraded wide and ultra-wide cameras.\n",
      "- **Connectivity**: Support for Wi-Fi 7.\n",
      "- **Battery**: Larger battery.\n",
      "- **Operating System**: Pre-installed with iOS 18.\n",
      "\n",
      "For more detailed information and the latest updates, you may want to check additional sources or the official Apple website. If you need further specifics or have additional questions, feel free to ask!\n",
      "\n",
      "--------------------------------------------------\n",
      "Message # 5\n",
      "--------------------------------------------------\n",
      "ROLE: USER\n",
      "TEXT: Can you please fetch the latest news about the iPhone 16 Pro and tell me if its a good investment?\n",
      "\n",
      "--------------------------------------------------\n",
      "Message # 6\n",
      "--------------------------------------------------\n",
      "ROLE: ASSISTANT\n",
      "TOOL USE: fetch_duckduckgo_results\n",
      "INPUT: {'query': 'latest news about iPhone 16 Pro', 'max_results': 5}\n",
      "\n",
      "--------------------------------------------------\n",
      "Message # 7\n",
      "--------------------------------------------------\n",
      "ROLE: USER\n",
      "TOOL RESULT: [\"Here are all the new features expected to come to the iPhone 16 Pro and Pro Max. Larger displays. This year's iPhone 16 Pro line is getting bigger than ever. Though the standard iPhone 16 and 16 ...\", \"CUPERTINO, CALIFORNIA Apple today introduced iPhone 16 Pro and iPhone 16 Pro Max, featuring Apple Intelligence, larger display sizes, new creative capabilities with innovative pro camera features, stunning graphics for immersive gaming, and more \\u2014 all powered by the A18 Pro chip.With Apple Intelligence, powerful Apple-built generative models come to iPhone in the easy-to-use personal ...\", \"iPhone 16 Pro starts at $999 for 128GB, while iPhone 16 Pro Max starts at $1,199 for 256GB. Pre-orders begin on Friday, September 13 with availability on Friday, September 20.\", \"The second fastens on how Apple could achieve the new capacities in physical terms\\u2014after all, although it's believed that the displays and dimensions on the iPhone 16 Pro and iPhone 16 Pro Max ...\", \"Updated August 16 with more news on the new iPhone 16 Pro and iPhone 16 Pro Mac colors. Apple will reveal the new iPhone 16 series in early September\\u2014you can read exactly when that will happen ...\"]\n",
      "\n",
      "--------------------------------------------------\n",
      "Message # 8\n",
      "--------------------------------------------------\n",
      "ROLE: ASSISTANT\n",
      "TEXT: Here's a summary of the latest news about the iPhone 16 Pro, which may help you determine if it's a good investment:\n",
      "\n",
      "### Latest News on iPhone 16 Pro\n",
      "- **New Features**: \n",
      "  - Larger displays.\n",
      "  - Apple Intelligence integration.\n",
      "  - New creative capabilities with innovative pro camera features.\n",
      "  - Stunning graphics for immersive gaming.\n",
      "  - Powered by the A18 Pro chip.\n",
      "\n",
      "- **Pricing**:\n",
      "  - iPhone 16 Pro starts at $999 for 128GB.\n",
      "  - iPhone 16 Pro Max starts at $1,199 for 256GB.\n",
      "  - Pre-orders begin on September 13 with availability on September 20.\n",
      "\n",
      "- **Display and Dimensions**:\n",
      "  - Expected to have larger display sizes.\n",
      "  - Speculation on how Apple will achieve these new capacities in terms of physical design.\n",
      "\n",
      "### Is it a Good Investment?\n",
      "- **Pros**:\n",
      "  - Advanced features and capabilities (Apple Intelligence, improved camera, better graphics).\n",
      "  - Larger displays for a better user experience.\n",
      "  - Powerful A18 Pro chip for enhanced performance.\n",
      "\n",
      "- **Cons**:\n",
      "  - Higher price point compared to previous models.\n",
      "  - Potential rapid obsolescence as newer models are released annually.\n",
      "\n",
      "### Conclusion\n",
      "Whether the iPhone 16 Pro is a good investment depends on your needs and budget. If you require the latest technology, advanced features, and are willing to pay a premium, it could be a worthwhile investment. However, if you are budget-conscious or prefer to wait for reviews and user feedback, you might consider holding off until more information is available.\n",
      "\n",
      "For the most accurate and detailed assessment, it’s also advisable to read expert reviews and user testimonials once the device is released.\n"
     ]
    }
   ],
   "source": [
    "agent.draw_trace()"
   ]
  },
  {
   "cell_type": "code",
   "execution_count": 8,
   "metadata": {},
   "outputs": [
    {
     "name": "stdout",
     "output_type": "stream",
     "text": [
      "Total tokens used: 3402 | total costs: 0.0042288000 USD\n"
     ]
    }
   ],
   "source": [
    "print(f\"Total tokens used: {agent.total_tokens_used} | total costs: {agent.total_costs} USD\")"
   ]
  }
 ],
 "metadata": {
  "kernelspec": {
   "display_name": ".venv",
   "language": "python",
   "name": "python3"
  },
  "language_info": {
   "codemirror_mode": {
    "name": "ipython",
    "version": 3
   },
   "file_extension": ".py",
   "mimetype": "text/x-python",
   "name": "python",
   "nbconvert_exporter": "python",
   "pygments_lexer": "ipython3",
   "version": "3.12.3"
  }
 },
 "nbformat": 4,
 "nbformat_minor": 2
}
