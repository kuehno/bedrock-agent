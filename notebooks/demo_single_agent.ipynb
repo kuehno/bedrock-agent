{
 "cells": [
  {
   "cell_type": "code",
   "execution_count": 1,
   "metadata": {},
   "outputs": [],
   "source": [
    "from bedrock_agent.utils import get_boto_session\n",
    "from bedrock_agent.tool import tool\n",
    "from bedrock_agent.types import ModelConfig\n",
    "from bedrock_agent.agent import BedrockAgent\n",
    "from dotenv import load_dotenv\n",
    "import json\n",
    "\n",
    "load_dotenv()\n",
    "\n",
    "session = get_boto_session()"
   ]
  },
  {
   "cell_type": "code",
   "execution_count": 2,
   "metadata": {},
   "outputs": [],
   "source": [
    "@tool\n",
    "def get_current_weather(city: str) -> str:\n",
    "    \"\"\"\n",
    "    Fetches the current weather for a given city\n",
    "    \n",
    "    :param city: The city for which the weather is to be fetched\n",
    "    \"\"\"\n",
    "    import random\n",
    "    rng_degree = random.randrange(0, 40)\n",
    "    return f\"The weather in {city} is {rng_degree} degrees celsius\"\n",
    "\n",
    "@tool\n",
    "def write_poem(text: str) -> dict:\n",
    "    \"\"\"\n",
    "    Generates a poem based on the input text\n",
    "    \n",
    "    :param text: The text to base the poem on\n",
    "    \"\"\"\n",
    "    return json.dumps({\"text\": \"Roses are red, violets are blue, I am a bot, and so are you\"}, indent=4)"
   ]
  },
  {
   "cell_type": "code",
   "execution_count": 3,
   "metadata": {},
   "outputs": [],
   "source": [
    "tools = [get_current_weather, write_poem]\n",
    "model_cfg = ModelConfig(model_id=\"amazon.nova-micro-v1:0\")\n",
    "agent = BedrockAgent(\"ExpertAgent\", session, model_cfg=model_cfg, tools=tools, verbose=False)"
   ]
  },
  {
   "cell_type": "code",
   "execution_count": 4,
   "metadata": {},
   "outputs": [
    {
     "name": "stderr",
     "output_type": "stream",
     "text": [
      "\u001b[32m2024-12-19 21:46:39.888\u001b[0m | \u001b[1mINFO    \u001b[0m | \u001b[36mbedrock_agent.agent\u001b[0m:\u001b[36mchat\u001b[0m:\u001b[36m163\u001b[0m - \u001b[1mAgent: ExpertAgent | End of conversation. Returning response.\u001b[0m\n"
     ]
    }
   ],
   "source": [
    "res = agent.chat(\"Can you write a short poem about the weather in Berlin? Please also include the current weather. Please think step by step and lay out a plan before acting.\")"
   ]
  },
  {
   "cell_type": "code",
   "execution_count": 5,
   "metadata": {},
   "outputs": [
    {
     "name": "stdout",
     "output_type": "stream",
     "text": [
      "\n",
      "--------------------------------------------------\n",
      "Message # 1\n",
      "--------------------------------------------------\n",
      "ROLE: USER\n",
      "TEXT: Can you write a short poem about the weather in Berlin? Please also include the current weather. Please think step by step and lay out a plan before acting.\n",
      "\n",
      "--------------------------------------------------\n",
      "Message # 2\n",
      "--------------------------------------------------\n",
      "ROLE: ASSISTANT\n",
      "TEXT: To create a short poem about the weather in Berlin and include the current weather, I'll need to follow these steps:\n",
      "\n",
      "1. Fetch the current weather in Berlin.\n",
      "2. Use the weather information to inspire a poem.\n",
      "3. Write the poem using the weather details.\n",
      "4. Present the poem along with the current weather information.\n",
      "\n",
      "Here's the plan in action:\n",
      "\n",
      "1. Fetch the current weather in Berlin.\n",
      "2. Write the poem.\n",
      "\n",
      "\n",
      "TOOL USE: get_current_weather\n",
      "INPUT: {'city': 'Berlin'}\n",
      "\n",
      "--------------------------------------------------\n",
      "Message # 3\n",
      "--------------------------------------------------\n",
      "ROLE: USER\n",
      "TOOL RESULT: The weather in Berlin is 12 degrees celsius\n",
      "\n",
      "--------------------------------------------------\n",
      "Message # 4\n",
      "--------------------------------------------------\n",
      "ROLE: ASSISTANT\n",
      "TEXT: Now that I have the current weather information for Berlin, I'll write a short poem inspired by it.\n",
      "\n",
      "**Poem:**\n",
      "In Berlin's gentle, cool embrace,\n",
      "At twelve degrees, a peaceful place,\n",
      "The weather's calm, a tranquil scene,\n",
      "A perfect start to a serene day.\n",
      "\n",
      "**Current Weather in Berlin:**\n",
      "The weather in Berlin is 12 degrees Celsius.\n",
      "\n",
      "I hope you like the poem!\n"
     ]
    }
   ],
   "source": [
    "agent.draw_trace()"
   ]
  },
  {
   "cell_type": "code",
   "execution_count": 6,
   "metadata": {},
   "outputs": [
    {
     "name": "stdout",
     "output_type": "stream",
     "text": [
      "Total tokens used: 957 | total costs: 0.0000578550 USD\n"
     ]
    }
   ],
   "source": [
    "print(f\"Total tokens used: {agent.total_tokens_used} | total costs: {agent.total_costs} USD\")"
   ]
  }
 ],
 "metadata": {
  "kernelspec": {
   "display_name": ".venv",
   "language": "python",
   "name": "python3"
  },
  "language_info": {
   "codemirror_mode": {
    "name": "ipython",
    "version": 3
   },
   "file_extension": ".py",
   "mimetype": "text/x-python",
   "name": "python",
   "nbconvert_exporter": "python",
   "pygments_lexer": "ipython3",
   "version": "3.12.3"
  }
 },
 "nbformat": 4,
 "nbformat_minor": 2
}
