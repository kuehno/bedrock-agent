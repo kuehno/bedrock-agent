{
 "cells": [
  {
   "cell_type": "code",
   "execution_count": 9,
   "metadata": {},
   "outputs": [],
   "source": [
    "from bedrock_agent.utils import get_boto_session\n",
    "from bedrock_agent.tool import tool\n",
    "from bedrock_agent.data import ModelConfig\n",
    "from bedrock_agent.agent import BedrockAgent\n",
    "from dotenv import load_dotenv\n",
    "import json\n",
    "\n",
    "load_dotenv()\n",
    "\n",
    "session = get_boto_session()"
   ]
  },
  {
   "cell_type": "code",
   "execution_count": 10,
   "metadata": {},
   "outputs": [],
   "source": [
    "@tool\n",
    "def get_current_weather(city: str) -> str:\n",
    "    \"\"\"\n",
    "    Fetches the current weather for a given city\n",
    "    \n",
    "    :param city: The city for which the weather is to be fetched\n",
    "    \"\"\"\n",
    "    import random\n",
    "    rng_degree = random.randrange(0, 40)\n",
    "    return f\"The weather in {city} is {rng_degree} degrees celsius\"\n",
    "\n",
    "@tool\n",
    "def write_poem(text: str) -> dict:\n",
    "    \"\"\"\n",
    "    Generates a poem based on the input text\n",
    "    \n",
    "    :param text: The text to base the poem on\n",
    "    \"\"\"\n",
    "    return json.dumps({\"text\": \"Roses are red, violets are blue, I am a bot, and so are you\"}, indent=4)"
   ]
  },
  {
   "cell_type": "code",
   "execution_count": 11,
   "metadata": {},
   "outputs": [],
   "source": [
    "tools = [get_current_weather, write_poem]\n",
    "model_config = ModelConfig(model_id=\"amazon.nova-pro-v1:0\")\n",
    "agent = BedrockAgent(session, model_config=model_config, tools=tools)"
   ]
  },
  {
   "cell_type": "code",
   "execution_count": 12,
   "metadata": {},
   "outputs": [
    {
     "name": "stderr",
     "output_type": "stream",
     "text": [
      "\u001b[32m2024-12-16 21:18:15.974\u001b[0m | \u001b[1mINFO    \u001b[0m | \u001b[36mbedrock_agent.agent\u001b[0m:\u001b[36mchat\u001b[0m:\u001b[36m76\u001b[0m - \u001b[1mEnd of conversation. Returning response.\u001b[0m\n"
     ]
    }
   ],
   "source": [
    "agent.reset()\n",
    "res = agent.chat(\"Can you write a short poem about the weather in Berlin? Please also include the current weather\")"
   ]
  },
  {
   "cell_type": "code",
   "execution_count": 14,
   "metadata": {},
   "outputs": [
    {
     "name": "stderr",
     "output_type": "stream",
     "text": [
      "\u001b[32m2024-12-16 21:18:55.093\u001b[0m | \u001b[1mINFO    \u001b[0m | \u001b[36mbedrock_agent.agent\u001b[0m:\u001b[36mchat\u001b[0m:\u001b[36m76\u001b[0m - \u001b[1mEnd of conversation. Returning response.\u001b[0m\n"
     ]
    }
   ],
   "source": [
    "res = agent.chat(\"Can you please translate that to german?\")"
   ]
  },
  {
   "cell_type": "code",
   "execution_count": 15,
   "metadata": {},
   "outputs": [
    {
     "name": "stderr",
     "output_type": "stream",
     "text": [
      "\u001b[32m2024-12-16 21:18:56.835\u001b[0m | \u001b[1mINFO    \u001b[0m | \u001b[36mbedrock_agent.agent\u001b[0m:\u001b[36mchat\u001b[0m:\u001b[36m76\u001b[0m - \u001b[1mEnd of conversation. Returning response.\u001b[0m\n"
     ]
    }
   ],
   "source": [
    "res = agent.chat(\"Can you please add another story about and include the weather of Cologne?\")"
   ]
  },
  {
   "cell_type": "code",
   "execution_count": 16,
   "metadata": {},
   "outputs": [
    {
     "name": "stdout",
     "output_type": "stream",
     "text": [
      "\n",
      "--------------------------------------------------\n",
      "Message # 1\n",
      "--------------------------------------------------\n",
      "ROLE: USER\n",
      "TEXT: Can you write a short poem about the weather in Berlin? Please also include the current weather\n",
      "\n",
      "--------------------------------------------------\n",
      "Message # 2\n",
      "--------------------------------------------------\n",
      "ROLE: ASSISTANT\n",
      "TOOL USE: write_poem\n",
      "INPUT: {'text': 'weather in Berlin'}\n",
      "TOOL USE: get_current_weather\n",
      "INPUT: {'city': 'Berlin'}\n",
      "\n",
      "--------------------------------------------------\n",
      "Message # 3\n",
      "--------------------------------------------------\n",
      "ROLE: USER\n",
      "TOOL RESULT: {\n",
      "    \"text\": \"Roses are red, violets are blue, I am a bot, and so are you\"\n",
      "}\n",
      "TOOL RESULT: The weather in Berlin is 27 degrees celsius\n",
      "\n",
      "--------------------------------------------------\n",
      "Message # 4\n",
      "--------------------------------------------------\n",
      "ROLE: ASSISTANT\n",
      "TEXT: The weather in Berlin is 27 degrees celsius, here is a poem about the weather in Berlin:\n",
      "\n",
      "Roses are red, violets are blue, \n",
      "The weather in Berlin is hot, that's true.\n",
      "\n",
      "--------------------------------------------------\n",
      "Message # 5\n",
      "--------------------------------------------------\n",
      "ROLE: USER\n",
      "TEXT: Can you please translate that to german?\n",
      "\n",
      "--------------------------------------------------\n",
      "Message # 6\n",
      "--------------------------------------------------\n",
      "ROLE: ASSISTANT\n",
      "TEXT: Here is the poem translated to german:\n",
      "\n",
      "Rosen sind rot, Veilchen sind blau, \n",
      "Das Wetter in Berlin ist heiß, das ist wahr.\n",
      "\n",
      "--------------------------------------------------\n",
      "Message # 7\n",
      "--------------------------------------------------\n",
      "ROLE: USER\n",
      "TEXT: Can you please add another story about and include the weather of Cologne?\n",
      "\n",
      "--------------------------------------------------\n",
      "Message # 8\n",
      "--------------------------------------------------\n",
      "ROLE: ASSISTANT\n",
      "TOOL USE: write_poem\n",
      "INPUT: {'text': 'weather in Cologne'}\n",
      "TOOL USE: get_current_weather\n",
      "INPUT: {'city': 'Cologne'}\n",
      "\n",
      "--------------------------------------------------\n",
      "Message # 9\n",
      "--------------------------------------------------\n",
      "ROLE: USER\n",
      "TOOL RESULT: {\n",
      "    \"text\": \"Roses are red, violets are blue, I am a bot, and so are you\"\n",
      "}\n",
      "TOOL RESULT: The weather in Cologne is 14 degrees celsius\n",
      "\n",
      "--------------------------------------------------\n",
      "Message # 10\n",
      "--------------------------------------------------\n",
      "ROLE: ASSISTANT\n",
      "TEXT: The weather in Cologne is 14 degrees celsius, here is a poem about the weather in Cologne:\n",
      "\n",
      "Roses are red, violets are blue, \n",
      "The weather in Cologne is cool, that's true.\n"
     ]
    }
   ],
   "source": [
    "agent.draw_trace()"
   ]
  }
 ],
 "metadata": {
  "kernelspec": {
   "display_name": ".venv",
   "language": "python",
   "name": "python3"
  },
  "language_info": {
   "codemirror_mode": {
    "name": "ipython",
    "version": 3
   },
   "file_extension": ".py",
   "mimetype": "text/x-python",
   "name": "python",
   "nbconvert_exporter": "python",
   "pygments_lexer": "ipython3",
   "version": "3.12.3"
  }
 },
 "nbformat": 4,
 "nbformat_minor": 2
}
